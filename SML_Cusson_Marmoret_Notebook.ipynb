{
 "cells": [
  {
   "cell_type": "markdown",
   "metadata": {},
   "source": [
    "# Supervised Machine Learning Project\n",
    "## CUSSON Thomas - MARMORET Axel"
   ]
  },
  {
   "cell_type": "code",
   "execution_count": 1,
   "metadata": {},
   "outputs": [],
   "source": [
    "# All the needed imports\n",
    "from os import listdir\n",
    "from os.path import isfile, join\n",
    "from sklearn.feature_extraction.text import CountVectorizer\n",
    "import random\n",
    "import pandas as pd\n",
    "from sklearn.pipeline import Pipeline\n",
    "from sklearn.feature_extraction.text import TfidfTransformer\n",
    "from sklearn.model_selection import GridSearchCV\n",
    "from sklearn import metrics\n",
    "import matplotlib.pyplot as plt\n",
    "import scikitplot as skplt\n",
    "\n",
    "# The differents algorithms\n",
    "from sklearn.dummy import DummyClassifier\n",
    "from sklearn.naive_bayes import MultinomialNB\n",
    "from sklearn.linear_model import SGDClassifier\n",
    "from sklearn.svm import SVC\n",
    "from sklearn.ensemble import RandomForestClassifier\n",
    "from sklearn.ensemble import GradientBoostingClassifier"
   ]
  },
  {
   "cell_type": "markdown",
   "metadata": {},
   "source": [
    "## Load the data"
   ]
  },
  {
   "cell_type": "code",
   "execution_count": 2,
   "metadata": {},
   "outputs": [],
   "source": [
    "reviewList = []\n",
    "\n",
    "mydir = \"../Datasets/petit/txt_sentoken/\" # Could need to change the path\n",
    "\n",
    "# Load the positive examples \n",
    "for txt in listdir(mydir + \"pos/\"):\n",
    "    if isfile(join(mydir + \"pos/\", txt)):\n",
    "        review = open(join(mydir + \"pos/\", txt), \"r\")\n",
    "        reviews = \" \".join(review.readlines()).replace(\"\\n\", \" \")\n",
    "        reviewList.append((reviews, 0))\n",
    "        \n",
    "# Load the negative examples\n",
    "for txt in listdir(mydir + \"neg/\"):\n",
    "    if isfile(join(mydir + \"neg/\", txt)):\n",
    "        review = open(join(mydir + \"neg/\", txt), \"r\")\n",
    "        reviews = \" \".join(review.readlines()).replace(\"\\n\", \" \")\n",
    "        reviewList.append((reviews, 1))\n",
    "        "
   ]
  },
  {
   "cell_type": "markdown",
   "metadata": {},
   "source": [
    "## Pre-format the data"
   ]
  },
  {
   "cell_type": "code",
   "execution_count": 3,
   "metadata": {},
   "outputs": [],
   "source": [
    "# Shuffle the positive and negative examples\n",
    "random.seed(3)\n",
    "random.shuffle(reviewList)\n",
    "\n",
    "# Use first 70% for training\n",
    "train_size =int(0.7 * len(reviewList))\n",
    "train_set, test_set = reviewList[:train_size], reviewList[train_size:]\n",
    "        \n",
    "# Split the datasets in usable tables\n",
    "train_set_unlabeled,train_labels,test_set_unlabeled,test_labels = [], [], [], []\n",
    "\n",
    "for i in range(len(train_set)) :\n",
    "    train_set_unlabeled.append(train_set[i][0])\n",
    "    train_labels.append(train_set[i][1])\n",
    "for i in range(len(test_set)) :\n",
    "    test_set_unlabeled.append(test_set[i][0])\n",
    "    test_labels.append(test_set[i][1])"
   ]
  },
  {
   "cell_type": "markdown",
   "metadata": {},
   "source": [
    "# Machine Learning algorithms"
   ]
  },
  {
   "cell_type": "markdown",
   "metadata": {},
   "source": [
    "## Naive Bayes"
   ]
  },
  {
   "cell_type": "markdown",
   "metadata": {},
   "source": [
    "### Test different parameters"
   ]
  },
  {
   "cell_type": "code",
   "execution_count": 4,
   "metadata": {},
   "outputs": [],
   "source": [
    "# Pipeline of action specific for the Naive Bayes algorithm\n",
    "pipeline_nb = Pipeline([('vect', CountVectorizer(stop_words='english', min_df=15, analyzer = \"word\")),\n",
    "                     ('tfidf', TfidfTransformer()),\n",
    "                     ('nb', MultinomialNB()),\n",
    "                    ])\n",
    "\n",
    "# NB : We have run our algorithm with min_df as a parameter in order to find its best value\n",
    "# It gaves us 16 in range (1,51,5) and 15 in range (13, 19)\n",
    "# This parameter exploded our computation time, so we decided to fixed it at 15 in order to run our algorithms in decent time\n",
    "\n",
    "# GridSearch allows us to test severals parameters\n",
    "parameters_nb = {'vect__ngram_range': [(1, 1), (1, 2), (1, 3)],\n",
    "                 'tfidf__use_idf': (True, False),\n",
    "                 'nb__alpha': (1e-1, 1e-2),\n",
    "}\n",
    "\n",
    "GridSearchNaiveBayse = GridSearchCV(pipeline_nb, parameters_nb, n_jobs=-1, cv = 3)"
   ]
  },
  {
   "cell_type": "markdown",
   "metadata": {},
   "source": [
    "### Run the test pipeline !"
   ]
  },
  {
   "cell_type": "code",
   "execution_count": 5,
   "metadata": {},
   "outputs": [],
   "source": [
    "GridSearchNaiveBayse = GridSearchNaiveBayse.fit(train_set_unlabeled, train_labels)"
   ]
  },
  {
   "cell_type": "markdown",
   "metadata": {},
   "source": [
    "### Looking at the best parameters"
   ]
  },
  {
   "cell_type": "code",
   "execution_count": 6,
   "metadata": {},
   "outputs": [
    {
     "name": "stdout",
     "output_type": "stream",
     "text": [
      "nb__alpha: 0.01\n",
      "tfidf__use_idf: True\n",
      "vect__ngram_range: (1, 1)\n",
      "Best Estimator : MultinomialNB(alpha=0.01, class_prior=None, fit_prior=True)\n",
      "Best Score on those conditions : 0.8071428571428572\n"
     ]
    }
   ],
   "source": [
    "for param_name in sorted(parameters_nb.keys()):\n",
    "    print(\"%s: %r\" % (param_name, GridSearchNaiveBayse.best_params_[param_name]))\n",
    "\n",
    "print(\"Best Estimator : \" + str(GridSearchNaiveBayse.best_estimator_.get_params()[\"nb\"]))\n",
    "\n",
    "print (\"Best Score on those conditions : \" + str(GridSearchNaiveBayse.best_score_))"
   ]
  },
  {
   "cell_type": "markdown",
   "metadata": {},
   "source": [
    "### Keeping the best estimator according to the parameters"
   ]
  },
  {
   "cell_type": "code",
   "execution_count": 7,
   "metadata": {},
   "outputs": [],
   "source": [
    "naive = GridSearchNaiveBayse.best_estimator_"
   ]
  },
  {
   "cell_type": "markdown",
   "metadata": {},
   "source": [
    "### Test the prediction on our test set"
   ]
  },
  {
   "cell_type": "code",
   "execution_count": 8,
   "metadata": {},
   "outputs": [
    {
     "name": "stdout",
     "output_type": "stream",
     "text": [
      "Accuracy : 0.7916666666666666\n"
     ]
    },
    {
     "data": {
      "image/png": "[encoded data removed]",
      "text/plain": [
       "<Figure size 432x288 with 2 Axes>"
      ]
     },
     "metadata": {
      "needs_background": "light"
     },
     "output_type": "display_data"
    },
    {
     "name": "stdout",
     "output_type": "stream",
     "text": [
      "Recall : 0.7363636363636363\n",
      "Precision : 0.8647686832740213\n"
     ]
    }
   ],
   "source": [
    "test_bayse_prediction = naive.predict(test_set_unlabeled)\n",
    "\n",
    "print(\"Accuracy : \" + str(metrics.accuracy_score(test_bayse_prediction, test_labels)))\n",
    "\n",
    "skplt.metrics.plot_confusion_matrix(test_labels, test_bayse_prediction, normalize=True)\n",
    "plt.show()\n",
    "\n",
    "print(\"Recall : \" + str(metrics.recall_score(test_bayse_prediction, test_labels)))\n",
    "print(\"Precision : \" + str(metrics.precision_score(test_bayse_prediction, test_labels)))"
   ]
  },
  {
   "cell_type": "code",
   "execution_count": 9,
   "metadata": {},
   "outputs": [
    {
     "name": "stdout",
     "output_type": "stream",
     "text": [
      "ROC_Score : 0.7978114478114477\n"
     ]
    },
    {
     "data": {
      "image/png": "[encoded data removed]",
      "text/plain": [
       "<Figure size 432x288 with 1 Axes>"
      ]
     },
     "metadata": {
      "needs_background": "light"
     },
     "output_type": "display_data"
    }
   ],
   "source": [
    "fpr, tpr, thresholds = metrics.roc_curve(test_bayse_prediction, test_labels)\n",
    "plt.figure()\n",
    "plt.plot(fpr, tpr)\n",
    "\n",
    "print(\"ROC_Score : \" + str(metrics.roc_auc_score(test_bayse_prediction, test_labels)))\n"
   ]
  },
  {
   "cell_type": "markdown",
   "metadata": {},
   "source": [
    "### Text analysis"
   ]
  },
  {
   "cell_type": "code",
   "execution_count": 10,
   "metadata": {},
   "outputs": [
    {
     "data": {
      "text/plain": [
       "'words = naive.get_params()[\"vect\"].get_feature_names()\\n\\n# number of times each word appears across all positive messages\\npos_word_count = naive.get_params()[\"nb\"].feature_count_[0, :]\\n\\nneg_word_count = naive.get_params()[\"nb\"].feature_count_[1, :]\\n\\nratio_pos_neg = []\\nfor i in range(len(pos_word_count)) :\\n    ratio_pos_neg.append(pos_word_count[i]/neg_word_count[i])\\n\\nwords_frequencies = pd.DataFrame({\"word\":words, \"positive\":pos_word_count, \"negative\":neg_word_count, \"ratio\":ratio_pos_neg}).set_index(\"word\")\\nwords_frequencies.head()\\n\\nwords_frequencies.sort_values(\\'ratio\\', ascending=False)'"
      ]
     },
     "execution_count": 10,
     "metadata": {},
     "output_type": "execute_result"
    }
   ],
   "source": [
    "words = naive.get_params()[\"vect\"].get_feature_names()\n",
    "\n",
    "# number of times each word appears across all positive messages\n",
    "pos_word_count = naive.get_params()[\"nb\"].feature_count_[0, :]\n",
    "\n",
    "neg_word_count = naive.get_params()[\"nb\"].feature_count_[1, :]\n",
    "\n",
    "ratio_pos_neg = []\n",
    "for i in range(len(pos_word_count)) :\n",
    "    ratio_pos_neg.append(pos_word_count[i]/neg_word_count[i])\n",
    "\n",
    "words_frequencies = pd.DataFrame({\"word\":words, \"positive\":pos_word_count, \"negative\":neg_word_count, \"ratio\":ratio_pos_neg}).set_index(\"word\")\n",
    "words_frequencies.head()\n",
    "\n",
    "words_frequencies.sort_values('ratio', ascending=False)"
   ]
  },
  {
   "cell_type": "markdown",
   "metadata": {},
   "source": [
    "## SVM"
   ]
  },
  {
   "cell_type": "markdown",
   "metadata": {},
   "source": [
    "### We know use the same operating procedure"
   ]
  },
  {
   "cell_type": "code",
   "execution_count": 11,
   "metadata": {},
   "outputs": [
    {
     "name": "stderr",
     "output_type": "stream",
     "text": [
      "/usr/local/lib/python3.6/dist-packages/sklearn/model_selection/_split.py:1943: FutureWarning: You should specify a value for 'cv' instead of relying on the default value. The default value will change from 3 to 5 in version 0.22.\n",
      "  warnings.warn(CV_WARNING, FutureWarning)\n"
     ]
    },
    {
     "name": "stdout",
     "output_type": "stream",
     "text": [
      "svc__C: 1\n",
      "svc__gamma: 0.1\n",
      "svc__kernel: 'linear'\n",
      "tfidf__use_idf: True\n",
      "vect__ngram_range: (1, 2)\n",
      " Best Estimator : SVC(C=1, cache_size=200, class_weight=None, coef0=0.0,\n",
      "  decision_function_shape='ovr', degree=3, gamma=0.1, kernel='linear',\n",
      "  max_iter=-1, probability=False, random_state=None, shrinking=True,\n",
      "  tol=0.001, verbose=False)\n",
      "Accuracy : 0.8216666666666667\n"
     ]
    },
    {
     "data": {
      "image/png": "[encoded data removed]",
      "text/plain": [
       "<Figure size 432x288 with 2 Axes>"
      ]
     },
     "metadata": {
      "needs_background": "light"
     },
     "output_type": "display_data"
    },
    {
     "name": "stdout",
     "output_type": "stream",
     "text": [
      "Recall : 0.7770700636942676\n",
      "Precision : 0.8683274021352313\n",
      "ROC_Score : 0.8238497171618191\n"
     ]
    },
    {
     "data": {
      "image/png": "[encoded data removed]",
      "text/plain": [
       "<Figure size 432x288 with 1 Axes>"
      ]
     },
     "metadata": {
      "needs_background": "light"
     },
     "output_type": "display_data"
    }
   ],
   "source": [
    "# Fitting\n",
    "pipeline_svm = Pipeline([('vect', CountVectorizer(stop_words='english', min_df=15, analyzer = \"word\")),\n",
    "                     ('tfidf', TfidfTransformer()),\n",
    "                     ('svc', SVC()),\n",
    "                    ])\n",
    "\n",
    "parameters_svm = {'tfidf__use_idf': (True, False),\n",
    "                  'vect__ngram_range': [(1, 1), (1, 2)],\n",
    "                  'svc__kernel': ['linear','rbf'],\n",
    "                  'svc__gamma': [0.1, 0.01],\n",
    "                  'svc__C': [1, 10, 100],\n",
    "}\n",
    "\n",
    "GridSearchSVM = GridSearchCV(pipeline_svm, parameters_svm, n_jobs=-1)\n",
    "\n",
    "GridSearchSVM.fit(train_set_unlabeled, train_labels)\n",
    "\n",
    "# Best estimator\n",
    "for param_name in sorted(parameters_svm.keys()):\n",
    "    print(\"%s: %r\" % (param_name, GridSearchSVM.best_params_[param_name]))\n",
    "\n",
    "print(\" Best Estimator : \" + str(GridSearchSVM.best_estimator_.get_params()[\"svc\"]))\n",
    "\n",
    "svm = GridSearchSVM.best_estimator_\n",
    "\n",
    "# Prediction on test set\n",
    "test_svm_prediction = svm.predict(test_set_unlabeled)\n",
    "\n",
    "# Results\n",
    "print(\"Accuracy : \" + str(metrics.accuracy_score(test_svm_prediction, test_labels)))\n",
    "\n",
    "skplt.metrics.plot_confusion_matrix(test_labels, test_svm_prediction, normalize=True)\n",
    "plt.show()\n",
    "\n",
    "print(\"Recall : \" + str(metrics.recall_score(test_svm_prediction, test_labels)))\n",
    "print(\"Precision : \" + str(metrics.precision_score(test_svm_prediction, test_labels)))\n",
    "\n",
    "fpr, tpr, thresholds = metrics.roc_curve(test_svm_prediction, test_labels)\n",
    "plt.figure()\n",
    "plt.plot(fpr, tpr, lw=2)\n",
    "\n",
    "print(\"ROC_Score : \" + str(metrics.roc_auc_score(test_svm_prediction, test_labels)))\n"
   ]
  },
  {
   "cell_type": "markdown",
   "metadata": {},
   "source": [
    "## Random Forest "
   ]
  },
  {
   "cell_type": "code",
   "execution_count": 12,
   "metadata": {},
   "outputs": [
    {
     "name": "stderr",
     "output_type": "stream",
     "text": [
      "/usr/local/lib/python3.6/dist-packages/sklearn/model_selection/_split.py:1943: FutureWarning: You should specify a value for 'cv' instead of relying on the default value. The default value will change from 3 to 5 in version 0.22.\n",
      "  warnings.warn(CV_WARNING, FutureWarning)\n"
     ]
    },
    {
     "name": "stdout",
     "output_type": "stream",
     "text": [
      "rf__n_estimators: 2000\n",
      "tfidf__use_idf: False\n",
      "vect__ngram_range: (1, 1)\n",
      " Best Estimator : RandomForestClassifier(bootstrap=True, class_weight=None, criterion='gini',\n",
      "            max_depth=None, max_features='auto', max_leaf_nodes=None,\n",
      "            min_impurity_decrease=0.0, min_impurity_split=None,\n",
      "            min_samples_leaf=1, min_samples_split=2,\n",
      "            min_weight_fraction_leaf=0.0, n_estimators=2000, n_jobs=None,\n",
      "            oob_score=False, random_state=None, verbose=0,\n",
      "            warm_start=False)\n",
      "Accuracy : 0.82\n"
     ]
    },
    {
     "data": {
      "image/png": "[encoded data removed]",
      "text/plain": [
       "<Figure size 432x288 with 2 Axes>"
      ]
     },
     "metadata": {
      "needs_background": "light"
     },
     "output_type": "display_data"
    },
    {
     "name": "stdout",
     "output_type": "stream",
     "text": [
      "Recall : 0.7409470752089137\n",
      "Precision : 0.9466192170818505\n",
      "ROC_Score : 0.8393532056542494\n"
     ]
    },
    {
     "data": {
      "image/png": "[encoded data removed]",
      "text/plain": [
       "<Figure size 432x288 with 1 Axes>"
      ]
     },
     "metadata": {
      "needs_background": "light"
     },
     "output_type": "display_data"
    }
   ],
   "source": [
    "# Fitting\n",
    "pipeline_rf = Pipeline([('vect', CountVectorizer(stop_words='english', min_df=15, analyzer = \"word\")),\n",
    "                     ('tfidf', TfidfTransformer()),\n",
    "                     ('rf', RandomForestClassifier()),\n",
    "                    ])\n",
    "\n",
    "parameters_rf = {'tfidf__use_idf': (True, False),\n",
    "                 'vect__ngram_range': [(1, 1), (1, 2), (1, 3)],\n",
    "                 'rf__n_estimators': [100, 1000, 2000],\n",
    "}\n",
    "\n",
    "GridSearchRF = GridSearchCV(pipeline_rf, parameters_rf, n_jobs=-1)\n",
    "\n",
    "GridSearchRF.fit(train_set_unlabeled, train_labels)\n",
    "\n",
    "# Best estimator\n",
    "for param_name in sorted(parameters_rf.keys()):\n",
    "    print(\"%s: %r\" % (param_name, GridSearchRF.best_params_[param_name]))\n",
    "\n",
    "print(\" Best Estimator : \" + str(GridSearchRF.best_estimator_.get_params()[\"rf\"]))\n",
    "\n",
    "rf = GridSearchRF.best_estimator_\n",
    "\n",
    "# Prediction on test set\n",
    "test_rf_prediction = rf.predict(test_set_unlabeled)\n",
    "\n",
    "# Results\n",
    "print(\"Accuracy : \" + str(metrics.accuracy_score(test_rf_prediction, test_labels)))\n",
    "\n",
    "skplt.metrics.plot_confusion_matrix(test_labels, test_rf_prediction, normalize=True)\n",
    "plt.show()\n",
    "\n",
    "print(\"Recall : \" + str(metrics.recall_score(test_rf_prediction, test_labels)))\n",
    "print(\"Precision : \" + str(metrics.precision_score(test_rf_prediction, test_labels)))\n",
    "\n",
    "fpr, tpr, thresholds = metrics.roc_curve(test_rf_prediction, test_labels)\n",
    "plt.figure()\n",
    "plt.plot(fpr, tpr, lw=2)\n",
    "\n",
    "print(\"ROC_Score : \" + str(metrics.roc_auc_score(test_rf_prediction, test_labels)))\n"
   ]
  },
  {
   "cell_type": "markdown",
   "metadata": {},
   "source": [
    "## Gradient Boosting"
   ]
  },
  {
   "cell_type": "code",
   "execution_count": 13,
   "metadata": {},
   "outputs": [
    {
     "data": {
      "text/plain": [
       "'pipeline_gb = Pipeline([(\\'vect\\', CountVectorizer(stop_words=\\'english\\', min_df=15, analyzer = \"word\")),\\n                     (\\'tfidf\\', TfidfTransformer()),\\n                     (\\'gb\\', GradientBoostingClassifier()),\\n                    ])\\n\\nparameters_gb = {\\'tfidf__use_idf\\': (True, False),\\n                 \\'vect__ngram_range\\': [(1, 1), (1, 2)],\\n                 \\'gb__learning_rate\\': [1e-1, 1e-2, 1e-3],\\n                 \\'gb__n_estimators\\': [100, 1000, 10000],\\n}\\n\\nGridSearchGB = GridSearchCV(pipeline_gb, parameters_gb, n_jobs=-1)\\n\\nGridSearchGB.fit(train_set_unlabeled, train_labels)\\n\\n# Best estimator\\nfor param_name in sorted(parameters_gb.keys()):\\n    print(\"%s: %r\" % (param_name, GridSearchGB.best_params_[param_name]))\\n\\nprint(\" Best Estimator : \" + str(GridSearchGB.best_estimator_.get_params()[\"gb\"]))\\n\\ngb = GridSearchGB.best_estimator_\\n\\n# Prediction on test set\\ntest_gb_prediction = gb.predict(test_set_unlabeled)\\n\\n# Results\\nprint(\"Accuracy : \" + str(metrics.accuracy_score(test_gb_prediction, test_labels)))\\n\\nskplt.metrics.plot_confusion_matrix(test_labels, test_gb_prediction, normalize=True)\\nplt.show()\\n\\nprint(\"Recall : \" + str(metrics.recall_score(test_gb_prediction, test_labels)))\\nprint(\"Precision : \" + str(metrics.precision_score(test_gb_prediction, test_labels)))\\n\\nfpr, tpr, thresholds = metrics.roc_curve(test_gb_prediction, test_labels)\\nplt.figure()\\nplt.plot(fpr, tpr, lw=2)\\n\\nprint(\"ROC_Score : \" + str(metrics.roc_auc_score(test_gb_prediction, test_labels)))'"
      ]
     },
     "execution_count": 13,
     "metadata": {},
     "output_type": "execute_result"
    }
   ],
   "source": [
    "# Fitting\n",
    "\"\"\"pipeline_gb = Pipeline([('vect', CountVectorizer(stop_words='english', min_df=15, analyzer = \"word\")),\n",
    "                     ('tfidf', TfidfTransformer()),\n",
    "                     ('gb', GradientBoostingClassifier()),\n",
    "                    ])\n",
    "\n",
    "parameters_gb = {'tfidf__use_idf': (True, False),\n",
    "                 'vect__ngram_range': [(1, 1), (1, 2)],\n",
    "                 'gb__learning_rate': [1e-1, 1e-2, 1e-3],\n",
    "                 'gb__n_estimators': [100, 1000, 10000],\n",
    "}\n",
    "\n",
    "GridSearchGB = GridSearchCV(pipeline_gb, parameters_gb, n_jobs=-1)\n",
    "\n",
    "GridSearchGB.fit(train_set_unlabeled, train_labels)\n",
    "\n",
    "# Best estimator\n",
    "for param_name in sorted(parameters_gb.keys()):\n",
    "    print(\"%s: %r\" % (param_name, GridSearchGB.best_params_[param_name]))\n",
    "\n",
    "print(\" Best Estimator : \" + str(GridSearchGB.best_estimator_.get_params()[\"gb\"]))\n",
    "\n",
    "gb = GridSearchGB.best_estimator_\n",
    "\n",
    "# Prediction on test set\n",
    "test_gb_prediction = gb.predict(test_set_unlabeled)\n",
    "\n",
    "# Results\n",
    "print(\"Accuracy : \" + str(metrics.accuracy_score(test_gb_prediction, test_labels)))\n",
    "\n",
    "skplt.metrics.plot_confusion_matrix(test_labels, test_gb_prediction, normalize=True)\n",
    "plt.show()\n",
    "\n",
    "print(\"Recall : \" + str(metrics.recall_score(test_gb_prediction, test_labels)))\n",
    "print(\"Precision : \" + str(metrics.precision_score(test_gb_prediction, test_labels)))\n",
    "\n",
    "fpr, tpr, thresholds = metrics.roc_curve(test_gb_prediction, test_labels)\n",
    "plt.figure()\n",
    "plt.plot(fpr, tpr, lw=2)\n",
    "\n",
    "print(\"ROC_Score : \" + str(metrics.roc_auc_score(test_gb_prediction, test_labels)))\"\"\""
   ]
  },
  {
   "cell_type": "markdown",
   "metadata": {},
   "source": [
    "# Compare the results"
   ]
  },
  {
   "cell_type": "code",
   "execution_count": 35,
   "metadata": {},
   "outputs": [
    {
     "name": "stderr",
     "output_type": "stream",
     "text": [
      "/home/boby/.local/lib/python3.6/site-packages/matplotlib/figure.py:98: MatplotlibDeprecationWarning: \n",
      "Adding an axes using the same arguments as a previous axes currently reuses the earlier instance.  In a future version, a new instance will always be created and returned.  Meanwhile, this warning can be suppressed, and the future behavior ensured, by passing a unique label to each axes instance.\n",
      "  \"Adding an axes using the same arguments as a previous axes \"\n"
     ]
    },
    {
     "data": {
      "image/png": "[encoded data removed]",
      "text/plain": [
       "<Figure size 432x288 with 1 Axes>"
      ]
     },
     "metadata": {
      "needs_background": "light"
     },
     "output_type": "display_data"
    }
   ],
   "source": [
    "x = [1, 2, 3]\n",
    "y = [metrics.roc_auc_score(test_bayse_prediction, test_labels),\n",
    "     metrics.roc_auc_score(test_svm_prediction, test_labels),\n",
    "     metrics.roc_auc_score(test_rf_prediction, test_labels)\n",
    "     #metrics.roc_auc_score(test_gb_prediction, test_labels)\n",
    "]\n",
    "labels = ['Naive Bayse', 'SVM', 'Random Forest', 'Boosting']\n",
    "\n",
    "#plt.hist(x, y, 'ro')\n",
    "# You can specify a rotation for the tick labels in degrees or with keywords.\n",
    "plt.xticks(x, labels, rotation=45)\n",
    "# Pad margins so that markers don't get clipped by the axes\n",
    "plt.margins(0.2)\n",
    "# Tweak spacing to prevent clipping of tick-labels\n",
    "plt.subplots_adjust(bottom=0.15)\n",
    "\n",
    "\n",
    "#pos = np.arange(len(X))\n",
    "width = 1.0     # gives histogram aspect to the bar diagram\n",
    "ax = plt.axes()\n",
    "#ax.set_xticks(x + (width / 2))\n",
    "ax.set_xticklabels(labels)\n",
    "\n",
    "plt.bar(x, y, width, color='red')\n",
    "plt.show()"
   ]
  },
  {
   "cell_type": "markdown",
   "metadata": {},
   "source": [
    "### Text Analysis"
   ]
  },
  {
   "cell_type": "code",
   "execution_count": 22,
   "metadata": {},
   "outputs": [
    {
     "name": "stderr",
     "output_type": "stream",
     "text": [
      "/usr/local/lib/python3.6/dist-packages/ipykernel_launcher.py:11: RuntimeWarning: divide by zero encountered in double_scalars\n",
      "  # This is added back by InteractiveShellApp.init_path()\n"
     ]
    },
    {
     "data": {
      "text/html": [
       "<div>\n",
       "<style scoped>\n",
       "    .dataframe tbody tr th:only-of-type {\n",
       "        vertical-align: middle;\n",
       "    }\n",
       "\n",
       "    .dataframe tbody tr th {\n",
       "        vertical-align: top;\n",
       "    }\n",
       "\n",
       "    .dataframe thead th {\n",
       "        text-align: right;\n",
       "    }\n",
       "</style>\n",
       "<table border=\"1\" class=\"dataframe\">\n",
       "  <thead>\n",
       "    <tr style=\"text-align: right;\">\n",
       "      <th></th>\n",
       "      <th>positive</th>\n",
       "      <th>negative</th>\n",
       "      <th>ratio</th>\n",
       "    </tr>\n",
       "    <tr>\n",
       "      <th>word</th>\n",
       "      <th></th>\n",
       "      <th></th>\n",
       "      <th></th>\n",
       "    </tr>\n",
       "  </thead>\n",
       "  <tbody>\n",
       "    <tr>\n",
       "      <th>astounding</th>\n",
       "      <td>1.216737</td>\n",
       "      <td>0.000000</td>\n",
       "      <td>inf</td>\n",
       "    </tr>\n",
       "    <tr>\n",
       "      <th>taxi</th>\n",
       "      <td>1.457085</td>\n",
       "      <td>0.067347</td>\n",
       "      <td>21.635450</td>\n",
       "    </tr>\n",
       "    <tr>\n",
       "      <th>gripping</th>\n",
       "      <td>1.175350</td>\n",
       "      <td>0.068389</td>\n",
       "      <td>17.186211</td>\n",
       "    </tr>\n",
       "    <tr>\n",
       "      <th>damon</th>\n",
       "      <td>2.564641</td>\n",
       "      <td>0.154770</td>\n",
       "      <td>16.570635</td>\n",
       "    </tr>\n",
       "    <tr>\n",
       "      <th>flawless</th>\n",
       "      <td>1.743607</td>\n",
       "      <td>0.127461</td>\n",
       "      <td>13.679532</td>\n",
       "    </tr>\n",
       "    <tr>\n",
       "      <th>religion</th>\n",
       "      <td>2.260367</td>\n",
       "      <td>0.170912</td>\n",
       "      <td>13.225300</td>\n",
       "    </tr>\n",
       "    <tr>\n",
       "      <th>outstanding</th>\n",
       "      <td>2.900588</td>\n",
       "      <td>0.229232</td>\n",
       "      <td>12.653482</td>\n",
       "    </tr>\n",
       "    <tr>\n",
       "      <th>scorsese</th>\n",
       "      <td>3.561519</td>\n",
       "      <td>0.305950</td>\n",
       "      <td>11.640869</td>\n",
       "    </tr>\n",
       "    <tr>\n",
       "      <th>magnificent</th>\n",
       "      <td>1.633454</td>\n",
       "      <td>0.159145</td>\n",
       "      <td>10.263951</td>\n",
       "    </tr>\n",
       "    <tr>\n",
       "      <th>fictional</th>\n",
       "      <td>1.244942</td>\n",
       "      <td>0.124298</td>\n",
       "      <td>10.015821</td>\n",
       "    </tr>\n",
       "    <tr>\n",
       "      <th>pivotal</th>\n",
       "      <td>1.201672</td>\n",
       "      <td>0.120077</td>\n",
       "      <td>10.007546</td>\n",
       "    </tr>\n",
       "    <tr>\n",
       "      <th>emperor</th>\n",
       "      <td>2.416248</td>\n",
       "      <td>0.251354</td>\n",
       "      <td>9.612918</td>\n",
       "    </tr>\n",
       "    <tr>\n",
       "      <th>composer</th>\n",
       "      <td>1.217475</td>\n",
       "      <td>0.130215</td>\n",
       "      <td>9.349768</td>\n",
       "    </tr>\n",
       "    <tr>\n",
       "      <th>lean</th>\n",
       "      <td>1.155157</td>\n",
       "      <td>0.134353</td>\n",
       "      <td>8.597926</td>\n",
       "    </tr>\n",
       "    <tr>\n",
       "      <th>imaginative</th>\n",
       "      <td>0.913530</td>\n",
       "      <td>0.107683</td>\n",
       "      <td>8.483543</td>\n",
       "    </tr>\n",
       "    <tr>\n",
       "      <th>wonderfully</th>\n",
       "      <td>2.646582</td>\n",
       "      <td>0.316238</td>\n",
       "      <td>8.368968</td>\n",
       "    </tr>\n",
       "    <tr>\n",
       "      <th>uplifting</th>\n",
       "      <td>1.094011</td>\n",
       "      <td>0.137728</td>\n",
       "      <td>7.943270</td>\n",
       "    </tr>\n",
       "    <tr>\n",
       "      <th>upper</th>\n",
       "      <td>1.406404</td>\n",
       "      <td>0.177201</td>\n",
       "      <td>7.936785</td>\n",
       "    </tr>\n",
       "    <tr>\n",
       "      <th>anger</th>\n",
       "      <td>1.424444</td>\n",
       "      <td>0.180891</td>\n",
       "      <td>7.874601</td>\n",
       "    </tr>\n",
       "    <tr>\n",
       "      <th>prisoner</th>\n",
       "      <td>1.308081</td>\n",
       "      <td>0.166684</td>\n",
       "      <td>7.847689</td>\n",
       "    </tr>\n",
       "    <tr>\n",
       "      <th>marvelous</th>\n",
       "      <td>1.419387</td>\n",
       "      <td>0.183524</td>\n",
       "      <td>7.734060</td>\n",
       "    </tr>\n",
       "    <tr>\n",
       "      <th>truman</th>\n",
       "      <td>5.668329</td>\n",
       "      <td>0.738953</td>\n",
       "      <td>7.670752</td>\n",
       "    </tr>\n",
       "    <tr>\n",
       "      <th>unfolds</th>\n",
       "      <td>1.115132</td>\n",
       "      <td>0.151890</td>\n",
       "      <td>7.341703</td>\n",
       "    </tr>\n",
       "    <tr>\n",
       "      <th>freedom</th>\n",
       "      <td>2.134435</td>\n",
       "      <td>0.291180</td>\n",
       "      <td>7.330290</td>\n",
       "    </tr>\n",
       "    <tr>\n",
       "      <th>ambitious</th>\n",
       "      <td>1.584726</td>\n",
       "      <td>0.217217</td>\n",
       "      <td>7.295598</td>\n",
       "    </tr>\n",
       "    <tr>\n",
       "      <th>coen</th>\n",
       "      <td>1.899525</td>\n",
       "      <td>0.274593</td>\n",
       "      <td>6.917612</td>\n",
       "    </tr>\n",
       "    <tr>\n",
       "      <th>finest</th>\n",
       "      <td>2.334850</td>\n",
       "      <td>0.349313</td>\n",
       "      <td>6.684116</td>\n",
       "    </tr>\n",
       "    <tr>\n",
       "      <th>beautifully</th>\n",
       "      <td>1.930028</td>\n",
       "      <td>0.290133</td>\n",
       "      <td>6.652231</td>\n",
       "    </tr>\n",
       "    <tr>\n",
       "      <th>ralph</th>\n",
       "      <td>1.656198</td>\n",
       "      <td>0.253432</td>\n",
       "      <td>6.535090</td>\n",
       "    </tr>\n",
       "    <tr>\n",
       "      <th>tad</th>\n",
       "      <td>1.243448</td>\n",
       "      <td>0.193351</td>\n",
       "      <td>6.431038</td>\n",
       "    </tr>\n",
       "    <tr>\n",
       "      <th>...</th>\n",
       "      <td>...</td>\n",
       "      <td>...</td>\n",
       "      <td>...</td>\n",
       "    </tr>\n",
       "    <tr>\n",
       "      <th>dud</th>\n",
       "      <td>0.152115</td>\n",
       "      <td>1.113633</td>\n",
       "      <td>0.136593</td>\n",
       "    </tr>\n",
       "    <tr>\n",
       "      <th>whatsoever</th>\n",
       "      <td>0.293061</td>\n",
       "      <td>2.229899</td>\n",
       "      <td>0.131424</td>\n",
       "    </tr>\n",
       "    <tr>\n",
       "      <th>clerk</th>\n",
       "      <td>0.159547</td>\n",
       "      <td>1.221909</td>\n",
       "      <td>0.130572</td>\n",
       "    </tr>\n",
       "    <tr>\n",
       "      <th>unintentional</th>\n",
       "      <td>0.125112</td>\n",
       "      <td>0.981371</td>\n",
       "      <td>0.127487</td>\n",
       "    </tr>\n",
       "    <tr>\n",
       "      <th>huh</th>\n",
       "      <td>0.145589</td>\n",
       "      <td>1.163667</td>\n",
       "      <td>0.125113</td>\n",
       "    </tr>\n",
       "    <tr>\n",
       "      <th>downhill</th>\n",
       "      <td>0.138802</td>\n",
       "      <td>1.112620</td>\n",
       "      <td>0.124753</td>\n",
       "    </tr>\n",
       "    <tr>\n",
       "      <th>convoluted</th>\n",
       "      <td>0.163559</td>\n",
       "      <td>1.326295</td>\n",
       "      <td>0.123320</td>\n",
       "    </tr>\n",
       "    <tr>\n",
       "      <th>lifeless</th>\n",
       "      <td>0.247172</td>\n",
       "      <td>2.092137</td>\n",
       "      <td>0.118143</td>\n",
       "    </tr>\n",
       "    <tr>\n",
       "      <th>wow</th>\n",
       "      <td>0.128437</td>\n",
       "      <td>1.094977</td>\n",
       "      <td>0.117297</td>\n",
       "    </tr>\n",
       "    <tr>\n",
       "      <th>eve</th>\n",
       "      <td>0.353179</td>\n",
       "      <td>3.036716</td>\n",
       "      <td>0.116303</td>\n",
       "    </tr>\n",
       "    <tr>\n",
       "      <th>uninspired</th>\n",
       "      <td>0.200959</td>\n",
       "      <td>1.746273</td>\n",
       "      <td>0.115079</td>\n",
       "    </tr>\n",
       "    <tr>\n",
       "      <th>wasted</th>\n",
       "      <td>0.451717</td>\n",
       "      <td>3.934093</td>\n",
       "      <td>0.114821</td>\n",
       "    </tr>\n",
       "    <tr>\n",
       "      <th>poorly</th>\n",
       "      <td>0.359165</td>\n",
       "      <td>3.133636</td>\n",
       "      <td>0.114616</td>\n",
       "    </tr>\n",
       "    <tr>\n",
       "      <th>idiotic</th>\n",
       "      <td>0.186263</td>\n",
       "      <td>1.653525</td>\n",
       "      <td>0.112646</td>\n",
       "    </tr>\n",
       "    <tr>\n",
       "      <th>gabriel</th>\n",
       "      <td>0.194962</td>\n",
       "      <td>1.758242</td>\n",
       "      <td>0.110885</td>\n",
       "    </tr>\n",
       "    <tr>\n",
       "      <th>lame</th>\n",
       "      <td>0.410331</td>\n",
       "      <td>3.837812</td>\n",
       "      <td>0.106918</td>\n",
       "    </tr>\n",
       "    <tr>\n",
       "      <th>alas</th>\n",
       "      <td>0.171330</td>\n",
       "      <td>1.763966</td>\n",
       "      <td>0.097128</td>\n",
       "    </tr>\n",
       "    <tr>\n",
       "      <th>chuckle</th>\n",
       "      <td>0.150043</td>\n",
       "      <td>1.568133</td>\n",
       "      <td>0.095683</td>\n",
       "    </tr>\n",
       "    <tr>\n",
       "      <th>ludicrous</th>\n",
       "      <td>0.177316</td>\n",
       "      <td>1.854461</td>\n",
       "      <td>0.095616</td>\n",
       "    </tr>\n",
       "    <tr>\n",
       "      <th>stupidity</th>\n",
       "      <td>0.171746</td>\n",
       "      <td>1.885545</td>\n",
       "      <td>0.091086</td>\n",
       "    </tr>\n",
       "    <tr>\n",
       "      <th>page</th>\n",
       "      <td>0.136195</td>\n",
       "      <td>1.499851</td>\n",
       "      <td>0.090805</td>\n",
       "    </tr>\n",
       "    <tr>\n",
       "      <th>iii</th>\n",
       "      <td>0.146682</td>\n",
       "      <td>1.642852</td>\n",
       "      <td>0.089285</td>\n",
       "    </tr>\n",
       "    <tr>\n",
       "      <th>miscast</th>\n",
       "      <td>0.090726</td>\n",
       "      <td>1.138460</td>\n",
       "      <td>0.079692</td>\n",
       "    </tr>\n",
       "    <tr>\n",
       "      <th>trap</th>\n",
       "      <td>0.088390</td>\n",
       "      <td>1.129880</td>\n",
       "      <td>0.078230</td>\n",
       "    </tr>\n",
       "    <tr>\n",
       "      <th>miserably</th>\n",
       "      <td>0.093850</td>\n",
       "      <td>1.336511</td>\n",
       "      <td>0.070220</td>\n",
       "    </tr>\n",
       "    <tr>\n",
       "      <th>damme</th>\n",
       "      <td>0.246217</td>\n",
       "      <td>3.733585</td>\n",
       "      <td>0.065946</td>\n",
       "    </tr>\n",
       "    <tr>\n",
       "      <th>turkey</th>\n",
       "      <td>0.111678</td>\n",
       "      <td>1.798863</td>\n",
       "      <td>0.062083</td>\n",
       "    </tr>\n",
       "    <tr>\n",
       "      <th>seagal</th>\n",
       "      <td>0.133579</td>\n",
       "      <td>3.024327</td>\n",
       "      <td>0.044168</td>\n",
       "    </tr>\n",
       "    <tr>\n",
       "      <th>sucks</th>\n",
       "      <td>0.050825</td>\n",
       "      <td>1.473000</td>\n",
       "      <td>0.034505</td>\n",
       "    </tr>\n",
       "    <tr>\n",
       "      <th>insulting</th>\n",
       "      <td>0.049633</td>\n",
       "      <td>1.466388</td>\n",
       "      <td>0.033847</td>\n",
       "    </tr>\n",
       "  </tbody>\n",
       "</table>\n",
       "<p>4313 rows × 3 columns</p>\n",
       "</div>"
      ],
      "text/plain": [
       "               positive  negative      ratio\n",
       "word                                        \n",
       "astounding     1.216737  0.000000        inf\n",
       "taxi           1.457085  0.067347  21.635450\n",
       "gripping       1.175350  0.068389  17.186211\n",
       "damon          2.564641  0.154770  16.570635\n",
       "flawless       1.743607  0.127461  13.679532\n",
       "religion       2.260367  0.170912  13.225300\n",
       "outstanding    2.900588  0.229232  12.653482\n",
       "scorsese       3.561519  0.305950  11.640869\n",
       "magnificent    1.633454  0.159145  10.263951\n",
       "fictional      1.244942  0.124298  10.015821\n",
       "pivotal        1.201672  0.120077  10.007546\n",
       "emperor        2.416248  0.251354   9.612918\n",
       "composer       1.217475  0.130215   9.349768\n",
       "lean           1.155157  0.134353   8.597926\n",
       "imaginative    0.913530  0.107683   8.483543\n",
       "wonderfully    2.646582  0.316238   8.368968\n",
       "uplifting      1.094011  0.137728   7.943270\n",
       "upper          1.406404  0.177201   7.936785\n",
       "anger          1.424444  0.180891   7.874601\n",
       "prisoner       1.308081  0.166684   7.847689\n",
       "marvelous      1.419387  0.183524   7.734060\n",
       "truman         5.668329  0.738953   7.670752\n",
       "unfolds        1.115132  0.151890   7.341703\n",
       "freedom        2.134435  0.291180   7.330290\n",
       "ambitious      1.584726  0.217217   7.295598\n",
       "coen           1.899525  0.274593   6.917612\n",
       "finest         2.334850  0.349313   6.684116\n",
       "beautifully    1.930028  0.290133   6.652231\n",
       "ralph          1.656198  0.253432   6.535090\n",
       "tad            1.243448  0.193351   6.431038\n",
       "...                 ...       ...        ...\n",
       "dud            0.152115  1.113633   0.136593\n",
       "whatsoever     0.293061  2.229899   0.131424\n",
       "clerk          0.159547  1.221909   0.130572\n",
       "unintentional  0.125112  0.981371   0.127487\n",
       "huh            0.145589  1.163667   0.125113\n",
       "downhill       0.138802  1.112620   0.124753\n",
       "convoluted     0.163559  1.326295   0.123320\n",
       "lifeless       0.247172  2.092137   0.118143\n",
       "wow            0.128437  1.094977   0.117297\n",
       "eve            0.353179  3.036716   0.116303\n",
       "uninspired     0.200959  1.746273   0.115079\n",
       "wasted         0.451717  3.934093   0.114821\n",
       "poorly         0.359165  3.133636   0.114616\n",
       "idiotic        0.186263  1.653525   0.112646\n",
       "gabriel        0.194962  1.758242   0.110885\n",
       "lame           0.410331  3.837812   0.106918\n",
       "alas           0.171330  1.763966   0.097128\n",
       "chuckle        0.150043  1.568133   0.095683\n",
       "ludicrous      0.177316  1.854461   0.095616\n",
       "stupidity      0.171746  1.885545   0.091086\n",
       "page           0.136195  1.499851   0.090805\n",
       "iii            0.146682  1.642852   0.089285\n",
       "miscast        0.090726  1.138460   0.079692\n",
       "trap           0.088390  1.129880   0.078230\n",
       "miserably      0.093850  1.336511   0.070220\n",
       "damme          0.246217  3.733585   0.065946\n",
       "turkey         0.111678  1.798863   0.062083\n",
       "seagal         0.133579  3.024327   0.044168\n",
       "sucks          0.050825  1.473000   0.034505\n",
       "insulting      0.049633  1.466388   0.033847\n",
       "\n",
       "[4313 rows x 3 columns]"
      ]
     },
     "execution_count": 22,
     "metadata": {},
     "output_type": "execute_result"
    }
   ],
   "source": [
    "words = naive.get_params()[\"vect\"].get_feature_names()\n",
    "\n",
    "# number of times each word appears in each positive message\n",
    "pos_word_count = naive.get_params()[\"nb\"].feature_count_[0, :]\n",
    "\n",
    "# same for negative ones\n",
    "neg_word_count = naive.get_params()[\"nb\"].feature_count_[1, :]\n",
    "\n",
    "ratio_pos_neg = []\n",
    "for i in range(len(pos_word_count)) :\n",
    "    ratio_pos_neg.append(pos_word_count[i]/neg_word_count[i])\n",
    "\n",
    "words_frequencies = pd.DataFrame({\"word\":words, \"positive\":pos_word_count, \"negative\":neg_word_count, \"ratio\":ratio_pos_neg}).set_index(\"word\")\n",
    "words_frequencies.head()\n",
    "\n",
    "words_frequencies.sort_values('ratio', ascending=False)"
   ]
  },
  {
   "cell_type": "markdown",
   "metadata": {},
   "source": [
    "## With the big data ?"
   ]
  },
  {
   "cell_type": "code",
   "execution_count": null,
   "metadata": {},
   "outputs": [],
   "source": [
    "bigReviewList = []\n",
    "\n",
    "mydir = \"../Datasets/grand/train/txt_sentoken/\" # Could need to change the path\n",
    "\n",
    "# Load the positive examples \n",
    "for txt in listdir(mydir + \"pos/\"):\n",
    "    if isfile(join(mydir + \"pos/\", txt)):\n",
    "        review = open(join(mydir + \"pos/\", txt), \"r\")\n",
    "        reviews = \" \".join(review.readlines()).replace(\"\\n\", \" \")\n",
    "        reviewList.append((reviews, 0))\n",
    "        \n",
    "# Load the negative examples\n",
    "for txt in listdir(mydir + \"neg/\"):\n",
    "    if isfile(join(mydir + \"neg/\", txt)):\n",
    "        review = open(join(mydir + \"neg/\", txt), \"r\")\n",
    "        reviews = \" \".join(review.readlines()).replace(\"\\n\", \" \")\n",
    "        reviewList.append((reviews, 1))\n",
    "        "
   ]
  }
 ],
 "metadata": {
  "kernelspec": {
   "display_name": "Python 3",
   "language": "python",
   "name": "python3"
  },
  "language_info": {
   "codemirror_mode": {
    "name": "ipython",
    "version": 3
   },
   "file_extension": ".py",
   "mimetype": "text/x-python",
   "name": "python",
   "nbconvert_exporter": "python",
   "pygments_lexer": "ipython3",
   "version": "3.6.6"
  }
 },
 "nbformat": 4,
 "nbformat_minor": 2
}
