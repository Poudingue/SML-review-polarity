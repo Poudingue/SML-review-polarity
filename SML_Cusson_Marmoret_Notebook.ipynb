{
 "cells": [
  {
   "cell_type": "markdown",
   "metadata": {},
   "source": [
    "# Supervised Machine Learning Project\n",
    "## CUSSON Thomas - MARMORET Axel"
   ]
  },
  {
   "cell_type": "code",
   "execution_count": 1,
   "metadata": {},
   "outputs": [],
   "source": [
    "# All the needed imports\n",
    "from os import listdir\n",
    "from os.path import isfile, join\n",
    "from sklearn.feature_extraction.text import CountVectorizer\n",
    "import random\n",
    "import pandas as pd\n",
    "from sklearn.pipeline import Pipeline\n",
    "from sklearn.feature_extraction.text import TfidfTransformer\n",
    "from sklearn.model_selection import GridSearchCV\n",
    "from sklearn import metrics\n",
    "import matplotlib.pyplot as plt\n",
    "import scikitplot as skplt\n",
    "\n",
    "# The differents algorithms\n",
    "from sklearn.dummy import DummyClassifier\n",
    "from sklearn.naive_bayes import MultinomialNB\n",
    "from sklearn.linear_model import SGDClassifier\n",
    "from sklearn.svm import SVC\n",
    "from sklearn.ensemble import RandomForestClassifier\n",
    "from sklearn.ensemble import GradientBoostingClassifier\n",
    "\n",
    "# Some important variables\n",
    "listResults = []"
   ]
  },
  {
   "cell_type": "markdown",
   "metadata": {},
   "source": [
    "## Load the data"
   ]
  },
  {
   "cell_type": "code",
   "execution_count": 2,
   "metadata": {},
   "outputs": [],
   "source": [
    "reviewList = []\n",
    "\n",
    "mydir = \"../Datasets/petit/txt_sentoken/\" # Could need to change the path\n",
    "\n",
    "# Load the positive examples \n",
    "for txt in listdir(mydir + \"pos/\"):\n",
    "    if isfile(join(mydir + \"pos/\", txt)):\n",
    "        review = open(join(mydir + \"pos/\", txt), \"r\")\n",
    "        reviews = \" \".join(review.readlines()).replace(\"\\n\", \" \")\n",
    "        reviewList.append((reviews, 0))\n",
    "        \n",
    "# Load the negative examples\n",
    "for txt in listdir(mydir + \"neg/\"):\n",
    "    if isfile(join(mydir + \"neg/\", txt)):\n",
    "        review = open(join(mydir + \"neg/\", txt), \"r\")\n",
    "        reviews = \" \".join(review.readlines()).replace(\"\\n\", \" \")\n",
    "        reviewList.append((reviews, 1))\n",
    "        "
   ]
  },
  {
   "cell_type": "markdown",
   "metadata": {},
   "source": [
    "## Pre-format the data"
   ]
  },
  {
   "cell_type": "code",
   "execution_count": 3,
   "metadata": {},
   "outputs": [],
   "source": [
    "# Shuffle the positive and negative examples\n",
    "random.shuffle(reviewList)\n",
    "\n",
    "# Use first 70% for training\n",
    "train_size =int(0.7 * len(reviewList))\n",
    "train_set, test_set = reviewList[:train_size], reviewList[train_size:]\n",
    "        \n",
    "# Separate the datasets in usable tables\n",
    "train_set_unlabeled,train_labels,test_set_unlabeled,test_labels = [], [], [], []\n",
    "\n",
    "for i in range(len(train_set)) :\n",
    "    train_set_unlabeled.append(train_set[i][0])\n",
    "    train_labels.append(train_set[i][1])\n",
    "for i in range(len(test_set)) :\n",
    "    test_set_unlabeled.append(test_set[i][0])\n",
    "    test_labels.append(test_set[i][1])"
   ]
  },
  {
   "cell_type": "markdown",
   "metadata": {},
   "source": [
    "# Machine Learning algorithms"
   ]
  },
  {
   "cell_type": "markdown",
   "metadata": {},
   "source": [
    "## Naive Bayes"
   ]
  },
  {
   "cell_type": "markdown",
   "metadata": {},
   "source": [
    "### Build a pipeline with some parameters"
   ]
  },
  {
   "cell_type": "code",
   "execution_count": 4,
   "metadata": {},
   "outputs": [],
   "source": [
    "# Pipeline of action specific for the Naive Bayes algorithm\n",
    "pipeline_nb = Pipeline([('vect', CountVectorizer(stop_words='english', min_df=15, analyzer = \"word\")),\n",
    "                     ('tfidf', TfidfTransformer()),\n",
    "                     ('nb', MultinomialNB()),\n",
    "                    ])\n",
    "\n",
    "# NB : We have run our algorithm with min_df as a parameter in order to find its best value\n",
    "# It gaves us 16 in range (1,51,5) and 15 in range (13, 19)\n",
    "# This parameter exploded our computation time, so we decided to fixed it at 15 in order to run our algorithms in decent time\n",
    "\n",
    "# GridSearch allows us to test severals parameters\n",
    "parameters_nb = {'vect__ngram_range': [(1, 1), (1, 2), (1, 3)],\n",
    "                 'tfidf__use_idf': (True, False),\n",
    "                 'nb__alpha': (1e-1, 1e-2),\n",
    "}\n",
    "\n",
    "GridSearchNaiveBayse = GridSearchCV(pipeline_nb, parameters_nb, n_jobs=-1, cv = 3)"
   ]
  },
  {
   "cell_type": "markdown",
   "metadata": {},
   "source": [
    "### Run the pipeline !"
   ]
  },
  {
   "cell_type": "code",
   "execution_count": 5,
   "metadata": {},
   "outputs": [],
   "source": [
    "GridSearchNaiveBayse = GridSearchNaiveBayse.fit(train_set_unlabeled, train_labels)"
   ]
  },
  {
   "cell_type": "markdown",
   "metadata": {},
   "source": [
    "### Analysis of the results : searching for the best parameters"
   ]
  },
  {
   "cell_type": "code",
   "execution_count": 6,
   "metadata": {},
   "outputs": [
    {
     "name": "stdout",
     "output_type": "stream",
     "text": [
      "nb__alpha: 0.01\n",
      "tfidf__use_idf: False\n",
      "vect__ngram_range: (1, 2)\n",
      "Best Estimator : MultinomialNB(alpha=0.01, class_prior=None, fit_prior=True)\n",
      "Best Score on those conditions : 0.7985714285714286\n"
     ]
    }
   ],
   "source": [
    "for param_name in sorted(parameters_nb.keys()):\n",
    "    print(\"%s: %r\" % (param_name, GridSearchNaiveBayse.best_params_[param_name]))\n",
    "\n",
    "print(\"Best Estimator : \" + str(GridSearchNaiveBayse.best_estimator_.get_params()[\"nb\"]))\n",
    "\n",
    "print (\"Best Score on those conditions : \" + str(GridSearchNaiveBayse.best_score_))"
   ]
  },
  {
   "cell_type": "code",
   "execution_count": 7,
   "metadata": {},
   "outputs": [],
   "source": [
    "naive = GridSearchNaiveBayse.best_estimator_\n",
    "\n",
    "test_bayse_prediction = naive.predict(test_set_unlabeled)"
   ]
  },
  {
   "cell_type": "code",
   "execution_count": 8,
   "metadata": {},
   "outputs": [
    {
     "name": "stdout",
     "output_type": "stream",
     "text": [
      "Accuracy : 0.8266666666666667\n",
      "Recall : 0.839344262295082\n",
      "Precision : 0.8231511254019293\n"
     ]
    },
    {
     "data": {
      "image/png": "[encoded data removed]",
      "text/plain": [
       "<Figure size 432x288 with 2 Axes>"
      ]
     },
     "metadata": {
      "needs_background": "light"
     },
     "output_type": "display_data"
    }
   ],
   "source": [
    "print(\"Accuracy : \" + str(metrics.accuracy_score(test_bayse_prediction, test_labels)))\n",
    "print(\"Recall : \" + str(metrics.recall_score(test_bayse_prediction, test_labels)))\n",
    "print(\"Precision : \" + str(metrics.precision_score(test_bayse_prediction, test_labels)))\n",
    "\n",
    "skplt.metrics.plot_confusion_matrix(test_labels, test_bayse_prediction, normalize=True)\n",
    "plt.show()\n",
    "#Si ça plante, installer matplotlib (https://scikit-plot.readthedocs.io/en/stable/Quickstart.html)"
   ]
  },
  {
   "cell_type": "code",
   "execution_count": 9,
   "metadata": {},
   "outputs": [
    {
     "name": "stdout",
     "output_type": "stream",
     "text": [
      "ROC_Score : 0.8264517921644902\n"
     ]
    },
    {
     "data": {
      "image/png": "[encoded data removed]",
      "text/plain": [
       "<Figure size 432x288 with 1 Axes>"
      ]
     },
     "metadata": {
      "needs_background": "light"
     },
     "output_type": "display_data"
    }
   ],
   "source": [
    "fpr, tpr, thresholds = metrics.roc_curve(test_bayse_prediction, test_labels)\n",
    "plt.figure()\n",
    "plt.plot(fpr, tpr)\n",
    "\n",
    "print(\"ROC_Score : \" + str(metrics.roc_auc_score(test_bayse_prediction, test_labels)))\n"
   ]
  },
  {
   "cell_type": "code",
   "execution_count": 10,
   "metadata": {},
   "outputs": [
    {
     "data": {
      "text/html": [
       "<div>\n",
       "<style scoped>\n",
       "    .dataframe tbody tr th:only-of-type {\n",
       "        vertical-align: middle;\n",
       "    }\n",
       "\n",
       "    .dataframe tbody tr th {\n",
       "        vertical-align: top;\n",
       "    }\n",
       "\n",
       "    .dataframe thead th {\n",
       "        text-align: right;\n",
       "    }\n",
       "</style>\n",
       "<table border=\"1\" class=\"dataframe\">\n",
       "  <thead>\n",
       "    <tr style=\"text-align: right;\">\n",
       "      <th></th>\n",
       "      <th>positive</th>\n",
       "      <th>negative</th>\n",
       "      <th>ratio</th>\n",
       "    </tr>\n",
       "    <tr>\n",
       "      <th>word</th>\n",
       "      <th></th>\n",
       "      <th></th>\n",
       "      <th></th>\n",
       "    </tr>\n",
       "  </thead>\n",
       "  <tbody>\n",
       "    <tr>\n",
       "      <th>matt damon</th>\n",
       "      <td>0.936017</td>\n",
       "      <td>0.038576</td>\n",
       "      <td>24.264325</td>\n",
       "    </tr>\n",
       "    <tr>\n",
       "      <th>jedi</th>\n",
       "      <td>1.671539</td>\n",
       "      <td>0.082614</td>\n",
       "      <td>20.233011</td>\n",
       "    </tr>\n",
       "    <tr>\n",
       "      <th>damon</th>\n",
       "      <td>2.357836</td>\n",
       "      <td>0.122494</td>\n",
       "      <td>19.248586</td>\n",
       "    </tr>\n",
       "    <tr>\n",
       "      <th>uplifting</th>\n",
       "      <td>0.915752</td>\n",
       "      <td>0.051367</td>\n",
       "      <td>17.827792</td>\n",
       "    </tr>\n",
       "    <tr>\n",
       "      <th>slip</th>\n",
       "      <td>0.765498</td>\n",
       "      <td>0.043769</td>\n",
       "      <td>17.489566</td>\n",
       "    </tr>\n",
       "    <tr>\n",
       "      <th>finest</th>\n",
       "      <td>1.695204</td>\n",
       "      <td>0.098618</td>\n",
       "      <td>17.189621</td>\n",
       "    </tr>\n",
       "    <tr>\n",
       "      <th>breathtaking</th>\n",
       "      <td>1.273105</td>\n",
       "      <td>0.077770</td>\n",
       "      <td>16.370162</td>\n",
       "    </tr>\n",
       "    <tr>\n",
       "      <th>marvelous</th>\n",
       "      <td>0.864944</td>\n",
       "      <td>0.054153</td>\n",
       "      <td>15.972221</td>\n",
       "    </tr>\n",
       "    <tr>\n",
       "      <th>magnificent</th>\n",
       "      <td>0.915080</td>\n",
       "      <td>0.058051</td>\n",
       "      <td>15.763471</td>\n",
       "    </tr>\n",
       "    <tr>\n",
       "      <th>castle</th>\n",
       "      <td>1.062689</td>\n",
       "      <td>0.073840</td>\n",
       "      <td>14.391811</td>\n",
       "    </tr>\n",
       "    <tr>\n",
       "      <th>avoids</th>\n",
       "      <td>0.678293</td>\n",
       "      <td>0.051232</td>\n",
       "      <td>13.239749</td>\n",
       "    </tr>\n",
       "    <tr>\n",
       "      <th>depicted</th>\n",
       "      <td>0.547416</td>\n",
       "      <td>0.045644</td>\n",
       "      <td>11.993293</td>\n",
       "    </tr>\n",
       "    <tr>\n",
       "      <th>fictional</th>\n",
       "      <td>0.774569</td>\n",
       "      <td>0.072813</td>\n",
       "      <td>10.637819</td>\n",
       "    </tr>\n",
       "    <tr>\n",
       "      <th>vietnam</th>\n",
       "      <td>1.089432</td>\n",
       "      <td>0.104947</td>\n",
       "      <td>10.380770</td>\n",
       "    </tr>\n",
       "    <tr>\n",
       "      <th>outstanding</th>\n",
       "      <td>2.165250</td>\n",
       "      <td>0.216081</td>\n",
       "      <td>10.020533</td>\n",
       "    </tr>\n",
       "    <tr>\n",
       "      <th>captures</th>\n",
       "      <td>0.988472</td>\n",
       "      <td>0.098901</td>\n",
       "      <td>9.994561</td>\n",
       "    </tr>\n",
       "    <tr>\n",
       "      <th>debate</th>\n",
       "      <td>0.927191</td>\n",
       "      <td>0.096053</td>\n",
       "      <td>9.652929</td>\n",
       "    </tr>\n",
       "    <tr>\n",
       "      <th>lucas</th>\n",
       "      <td>2.445407</td>\n",
       "      <td>0.256120</td>\n",
       "      <td>9.547910</td>\n",
       "    </tr>\n",
       "    <tr>\n",
       "      <th>coen</th>\n",
       "      <td>1.267247</td>\n",
       "      <td>0.133587</td>\n",
       "      <td>9.486294</td>\n",
       "    </tr>\n",
       "    <tr>\n",
       "      <th>mesmerizing</th>\n",
       "      <td>0.567207</td>\n",
       "      <td>0.065372</td>\n",
       "      <td>8.676604</td>\n",
       "    </tr>\n",
       "    <tr>\n",
       "      <th>shine</th>\n",
       "      <td>0.965666</td>\n",
       "      <td>0.113996</td>\n",
       "      <td>8.471066</td>\n",
       "    </tr>\n",
       "    <tr>\n",
       "      <th>respectively</th>\n",
       "      <td>1.143652</td>\n",
       "      <td>0.140155</td>\n",
       "      <td>8.159894</td>\n",
       "    </tr>\n",
       "    <tr>\n",
       "      <th>matthew mcconaughey</th>\n",
       "      <td>0.761866</td>\n",
       "      <td>0.093580</td>\n",
       "      <td>8.141340</td>\n",
       "    </tr>\n",
       "    <tr>\n",
       "      <th>truman</th>\n",
       "      <td>3.604291</td>\n",
       "      <td>0.454208</td>\n",
       "      <td>7.935337</td>\n",
       "    </tr>\n",
       "    <tr>\n",
       "      <th>wonderfully</th>\n",
       "      <td>2.001527</td>\n",
       "      <td>0.257853</td>\n",
       "      <td>7.762271</td>\n",
       "    </tr>\n",
       "    <tr>\n",
       "      <th>saving private</th>\n",
       "      <td>1.023167</td>\n",
       "      <td>0.132457</td>\n",
       "      <td>7.724521</td>\n",
       "    </tr>\n",
       "    <tr>\n",
       "      <th>similarities</th>\n",
       "      <td>0.664434</td>\n",
       "      <td>0.086109</td>\n",
       "      <td>7.716229</td>\n",
       "    </tr>\n",
       "    <tr>\n",
       "      <th>neo</th>\n",
       "      <td>1.079162</td>\n",
       "      <td>0.141994</td>\n",
       "      <td>7.600035</td>\n",
       "    </tr>\n",
       "    <tr>\n",
       "      <th>goals</th>\n",
       "      <td>0.569934</td>\n",
       "      <td>0.075103</td>\n",
       "      <td>7.588732</td>\n",
       "    </tr>\n",
       "    <tr>\n",
       "      <th>anger</th>\n",
       "      <td>0.910101</td>\n",
       "      <td>0.120894</td>\n",
       "      <td>7.528116</td>\n",
       "    </tr>\n",
       "    <tr>\n",
       "      <th>...</th>\n",
       "      <td>...</td>\n",
       "      <td>...</td>\n",
       "      <td>...</td>\n",
       "    </tr>\n",
       "    <tr>\n",
       "      <th>showgirls</th>\n",
       "      <td>0.159248</td>\n",
       "      <td>1.210408</td>\n",
       "      <td>0.131566</td>\n",
       "    </tr>\n",
       "    <tr>\n",
       "      <th>tv movie</th>\n",
       "      <td>0.084907</td>\n",
       "      <td>0.654981</td>\n",
       "      <td>0.129633</td>\n",
       "    </tr>\n",
       "    <tr>\n",
       "      <th>sloppy</th>\n",
       "      <td>0.126145</td>\n",
       "      <td>1.000323</td>\n",
       "      <td>0.126105</td>\n",
       "    </tr>\n",
       "    <tr>\n",
       "      <th>arnold</th>\n",
       "      <td>0.308421</td>\n",
       "      <td>2.498814</td>\n",
       "      <td>0.123427</td>\n",
       "    </tr>\n",
       "    <tr>\n",
       "      <th>steven seagal</th>\n",
       "      <td>0.092982</td>\n",
       "      <td>0.754028</td>\n",
       "      <td>0.123313</td>\n",
       "    </tr>\n",
       "    <tr>\n",
       "      <th>worst film</th>\n",
       "      <td>0.085929</td>\n",
       "      <td>0.697790</td>\n",
       "      <td>0.123145</td>\n",
       "    </tr>\n",
       "    <tr>\n",
       "      <th>idiotic</th>\n",
       "      <td>0.132430</td>\n",
       "      <td>1.110028</td>\n",
       "      <td>0.119304</td>\n",
       "    </tr>\n",
       "    <tr>\n",
       "      <th>lame</th>\n",
       "      <td>0.389728</td>\n",
       "      <td>3.337032</td>\n",
       "      <td>0.116789</td>\n",
       "    </tr>\n",
       "    <tr>\n",
       "      <th>lifeless</th>\n",
       "      <td>0.123302</td>\n",
       "      <td>1.102786</td>\n",
       "      <td>0.111809</td>\n",
       "    </tr>\n",
       "    <tr>\n",
       "      <th>turkey</th>\n",
       "      <td>0.118646</td>\n",
       "      <td>1.101366</td>\n",
       "      <td>0.107727</td>\n",
       "    </tr>\n",
       "    <tr>\n",
       "      <th>ludicrous</th>\n",
       "      <td>0.128826</td>\n",
       "      <td>1.221842</td>\n",
       "      <td>0.105436</td>\n",
       "    </tr>\n",
       "    <tr>\n",
       "      <th>uninspired</th>\n",
       "      <td>0.126374</td>\n",
       "      <td>1.276547</td>\n",
       "      <td>0.098997</td>\n",
       "    </tr>\n",
       "    <tr>\n",
       "      <th>arnold schwarzenegger</th>\n",
       "      <td>0.069344</td>\n",
       "      <td>0.721831</td>\n",
       "      <td>0.096067</td>\n",
       "    </tr>\n",
       "    <tr>\n",
       "      <th>saving grace</th>\n",
       "      <td>0.085676</td>\n",
       "      <td>0.913702</td>\n",
       "      <td>0.093768</td>\n",
       "    </tr>\n",
       "    <tr>\n",
       "      <th>waste time</th>\n",
       "      <td>0.160806</td>\n",
       "      <td>1.808493</td>\n",
       "      <td>0.088917</td>\n",
       "    </tr>\n",
       "    <tr>\n",
       "      <th>bad movie</th>\n",
       "      <td>0.233538</td>\n",
       "      <td>2.636347</td>\n",
       "      <td>0.088584</td>\n",
       "    </tr>\n",
       "    <tr>\n",
       "      <th>joel schumacher</th>\n",
       "      <td>0.069041</td>\n",
       "      <td>0.804380</td>\n",
       "      <td>0.085831</td>\n",
       "    </tr>\n",
       "    <tr>\n",
       "      <th>schwarzenegger</th>\n",
       "      <td>0.155973</td>\n",
       "      <td>1.867857</td>\n",
       "      <td>0.083504</td>\n",
       "    </tr>\n",
       "    <tr>\n",
       "      <th>uninteresting</th>\n",
       "      <td>0.134800</td>\n",
       "      <td>1.659737</td>\n",
       "      <td>0.081218</td>\n",
       "    </tr>\n",
       "    <tr>\n",
       "      <th>good actors</th>\n",
       "      <td>0.056860</td>\n",
       "      <td>0.740557</td>\n",
       "      <td>0.076780</td>\n",
       "    </tr>\n",
       "    <tr>\n",
       "      <th>insipid</th>\n",
       "      <td>0.049629</td>\n",
       "      <td>0.714055</td>\n",
       "      <td>0.069503</td>\n",
       "    </tr>\n",
       "    <tr>\n",
       "      <th>unintentional</th>\n",
       "      <td>0.051206</td>\n",
       "      <td>0.737638</td>\n",
       "      <td>0.069418</td>\n",
       "    </tr>\n",
       "    <tr>\n",
       "      <th>schumacher</th>\n",
       "      <td>0.109201</td>\n",
       "      <td>1.641301</td>\n",
       "      <td>0.066533</td>\n",
       "    </tr>\n",
       "    <tr>\n",
       "      <th>bad dialogue</th>\n",
       "      <td>0.040161</td>\n",
       "      <td>0.718812</td>\n",
       "      <td>0.055871</td>\n",
       "    </tr>\n",
       "    <tr>\n",
       "      <th>uninvolving</th>\n",
       "      <td>0.036637</td>\n",
       "      <td>0.712315</td>\n",
       "      <td>0.051434</td>\n",
       "    </tr>\n",
       "    <tr>\n",
       "      <th>sucks</th>\n",
       "      <td>0.047140</td>\n",
       "      <td>0.987465</td>\n",
       "      <td>0.047739</td>\n",
       "    </tr>\n",
       "    <tr>\n",
       "      <th>insulting</th>\n",
       "      <td>0.039314</td>\n",
       "      <td>0.840838</td>\n",
       "      <td>0.046756</td>\n",
       "    </tr>\n",
       "    <tr>\n",
       "      <th>seagal</th>\n",
       "      <td>0.092982</td>\n",
       "      <td>2.200539</td>\n",
       "      <td>0.042254</td>\n",
       "    </tr>\n",
       "    <tr>\n",
       "      <th>stupidity</th>\n",
       "      <td>0.039904</td>\n",
       "      <td>1.090497</td>\n",
       "      <td>0.036593</td>\n",
       "    </tr>\n",
       "    <tr>\n",
       "      <th>worst movie</th>\n",
       "      <td>0.000000</td>\n",
       "      <td>0.839837</td>\n",
       "      <td>0.000000</td>\n",
       "    </tr>\n",
       "  </tbody>\n",
       "</table>\n",
       "<p>4882 rows × 3 columns</p>\n",
       "</div>"
      ],
      "text/plain": [
       "                       positive  negative      ratio\n",
       "word                                                \n",
       "matt damon             0.936017  0.038576  24.264325\n",
       "jedi                   1.671539  0.082614  20.233011\n",
       "damon                  2.357836  0.122494  19.248586\n",
       "uplifting              0.915752  0.051367  17.827792\n",
       "slip                   0.765498  0.043769  17.489566\n",
       "finest                 1.695204  0.098618  17.189621\n",
       "breathtaking           1.273105  0.077770  16.370162\n",
       "marvelous              0.864944  0.054153  15.972221\n",
       "magnificent            0.915080  0.058051  15.763471\n",
       "castle                 1.062689  0.073840  14.391811\n",
       "avoids                 0.678293  0.051232  13.239749\n",
       "depicted               0.547416  0.045644  11.993293\n",
       "fictional              0.774569  0.072813  10.637819\n",
       "vietnam                1.089432  0.104947  10.380770\n",
       "outstanding            2.165250  0.216081  10.020533\n",
       "captures               0.988472  0.098901   9.994561\n",
       "debate                 0.927191  0.096053   9.652929\n",
       "lucas                  2.445407  0.256120   9.547910\n",
       "coen                   1.267247  0.133587   9.486294\n",
       "mesmerizing            0.567207  0.065372   8.676604\n",
       "shine                  0.965666  0.113996   8.471066\n",
       "respectively           1.143652  0.140155   8.159894\n",
       "matthew mcconaughey    0.761866  0.093580   8.141340\n",
       "truman                 3.604291  0.454208   7.935337\n",
       "wonderfully            2.001527  0.257853   7.762271\n",
       "saving private         1.023167  0.132457   7.724521\n",
       "similarities           0.664434  0.086109   7.716229\n",
       "neo                    1.079162  0.141994   7.600035\n",
       "goals                  0.569934  0.075103   7.588732\n",
       "anger                  0.910101  0.120894   7.528116\n",
       "...                         ...       ...        ...\n",
       "showgirls              0.159248  1.210408   0.131566\n",
       "tv movie               0.084907  0.654981   0.129633\n",
       "sloppy                 0.126145  1.000323   0.126105\n",
       "arnold                 0.308421  2.498814   0.123427\n",
       "steven seagal          0.092982  0.754028   0.123313\n",
       "worst film             0.085929  0.697790   0.123145\n",
       "idiotic                0.132430  1.110028   0.119304\n",
       "lame                   0.389728  3.337032   0.116789\n",
       "lifeless               0.123302  1.102786   0.111809\n",
       "turkey                 0.118646  1.101366   0.107727\n",
       "ludicrous              0.128826  1.221842   0.105436\n",
       "uninspired             0.126374  1.276547   0.098997\n",
       "arnold schwarzenegger  0.069344  0.721831   0.096067\n",
       "saving grace           0.085676  0.913702   0.093768\n",
       "waste time             0.160806  1.808493   0.088917\n",
       "bad movie              0.233538  2.636347   0.088584\n",
       "joel schumacher        0.069041  0.804380   0.085831\n",
       "schwarzenegger         0.155973  1.867857   0.083504\n",
       "uninteresting          0.134800  1.659737   0.081218\n",
       "good actors            0.056860  0.740557   0.076780\n",
       "insipid                0.049629  0.714055   0.069503\n",
       "unintentional          0.051206  0.737638   0.069418\n",
       "schumacher             0.109201  1.641301   0.066533\n",
       "bad dialogue           0.040161  0.718812   0.055871\n",
       "uninvolving            0.036637  0.712315   0.051434\n",
       "sucks                  0.047140  0.987465   0.047739\n",
       "insulting              0.039314  0.840838   0.046756\n",
       "seagal                 0.092982  2.200539   0.042254\n",
       "stupidity              0.039904  1.090497   0.036593\n",
       "worst movie            0.000000  0.839837   0.000000\n",
       "\n",
       "[4882 rows x 3 columns]"
      ]
     },
     "execution_count": 10,
     "metadata": {},
     "output_type": "execute_result"
    }
   ],
   "source": [
    "words = naive.get_params()[\"vect\"].get_feature_names()\n",
    "\n",
    "# number of times each word appears across all positive messages\n",
    "pos_word_count = naive.get_params()[\"nb\"].feature_count_[0, :]\n",
    "\n",
    "neg_word_count = naive.get_params()[\"nb\"].feature_count_[1, :]\n",
    "\n",
    "ratio_pos_neg = []\n",
    "for i in range(len(pos_word_count)) :\n",
    "    ratio_pos_neg.append(pos_word_count[i]/neg_word_count[i])\n",
    "\n",
    "words_frequencies = pd.DataFrame({\"word\":words, \"positive\":pos_word_count, \"negative\":neg_word_count, \"ratio\":ratio_pos_neg}).set_index(\"word\")\n",
    "words_frequencies.head()\n",
    "\n",
    "words_frequencies.sort_values('ratio', ascending=False)"
   ]
  },
  {
   "cell_type": "markdown",
   "metadata": {},
   "source": [
    "## SVM"
   ]
  },
  {
   "cell_type": "markdown",
   "metadata": {},
   "source": [
    "### Same method"
   ]
  },
  {
   "cell_type": "code",
   "execution_count": 11,
   "metadata": {},
   "outputs": [
    {
     "name": "stderr",
     "output_type": "stream",
     "text": [
      "c:\\users\\poudingue\\appdata\\local\\programs\\python\\python37-32\\lib\\site-packages\\sklearn\\model_selection\\_split.py:1943: FutureWarning: You should specify a value for 'cv' instead of relying on the default value. The default value will change from 3 to 5 in version 0.22.\n",
      "  warnings.warn(CV_WARNING, FutureWarning)\n"
     ]
    },
    {
     "data": {
      "text/plain": [
       "GridSearchCV(cv='warn', error_score='raise-deprecating',\n",
       "       estimator=Pipeline(memory=None,\n",
       "     steps=[('vect', CountVectorizer(analyzer='word', binary=False, decode_error='strict',\n",
       "        dtype=<class 'numpy.int64'>, encoding='utf-8', input='content',\n",
       "        lowercase=True, max_df=1.0, max_features=None, min_df=25,\n",
       "        ngram_range=(1, 1), preprocessor=None, stop_words='english',\n",
       "       ...f', max_iter=-1, probability=False, random_state=None,\n",
       "  shrinking=True, tol=0.001, verbose=False))]),\n",
       "       fit_params=None, iid='warn', n_jobs=-1,\n",
       "       param_grid={'tfidf__use_idf': (True, False), 'vect__ngram_range': [(1, 1), (1, 2)], 'svc__kernel': ['linear', 'rbf'], 'svc__gamma': [0.1, 0.01], 'svc__C': [1, 10, 100]},\n",
       "       pre_dispatch='2*n_jobs', refit=True, return_train_score='warn',\n",
       "       scoring=None, verbose=0)"
      ]
     },
     "execution_count": 11,
     "metadata": {},
     "output_type": "execute_result"
    }
   ],
   "source": [
    "pipeline_svm = Pipeline([('vect', CountVectorizer(stop_words='english', min_df=25, analyzer = \"word\")),\n",
    "                     ('tfidf', TfidfTransformer()),\n",
    "                     ('svc', SVC()),\n",
    "                    ])\n",
    "\n",
    "parameters_svm = {'tfidf__use_idf': (True, False),\n",
    "                  'vect__ngram_range': [(1, 1), (1, 2)],\n",
    "                  'svc__kernel': ['linear','rbf'],\n",
    "                  'svc__gamma': [0.1, 0.01],\n",
    "                  'svc__C': [1, 10, 100],\n",
    "}\n",
    "\n",
    "GridSearchSVM = GridSearchCV(pipeline_svm, parameters_svm, n_jobs=-1)\n",
    "\n",
    "GridSearchSVM.fit(train_set_unlabeled, train_labels)"
   ]
  },
  {
   "cell_type": "code",
   "execution_count": 12,
   "metadata": {},
   "outputs": [
    {
     "name": "stdout",
     "output_type": "stream",
     "text": [
      "svc__C: 1\n",
      "svc__gamma: 0.1\n",
      "svc__kernel: 'linear'\n",
      "tfidf__use_idf: True\n",
      "vect__ngram_range: (1, 1)\n",
      " Best Estimator : SVC(C=1, cache_size=200, class_weight=None, coef0=0.0,\n",
      "  decision_function_shape='ovr', degree=3, gamma=0.1, kernel='linear',\n",
      "  max_iter=-1, probability=False, random_state=None, shrinking=True,\n",
      "  tol=0.001, verbose=False)\n",
      "Accuracy : 0.83\n",
      "Recall : 0.8494983277591973\n",
      "Precision : 0.8167202572347267\n"
     ]
    },
    {
     "data": {
      "image/png": "[encoded data removed]",
      "text/plain": [
       "<Figure size 432x288 with 2 Axes>"
      ]
     },
     "metadata": {
      "needs_background": "light"
     },
     "output_type": "display_data"
    }
   ],
   "source": [
    "# Get the best parameters for the SVM\n",
    "for param_name in sorted(parameters_svm.keys()):\n",
    "    print(\"%s: %r\" % (param_name, GridSearchSVM.best_params_[param_name]))\n",
    "\n",
    "print(\" Best Estimator : \" + str(GridSearchSVM.best_estimator_.get_params()[\"svc\"]))\n",
    "\n",
    "svm = GridSearchSVM.best_estimator_\n",
    "\n",
    "test_svm_prediction = svm.predict(test_set_unlabeled)\n",
    "\n",
    "print(\"Accuracy : \" + str(metrics.accuracy_score(test_svm_prediction, test_labels)))\n",
    "print(\"Recall : \" + str(metrics.recall_score(test_svm_prediction, test_labels)))\n",
    "print(\"Precision : \" + str(metrics.precision_score(test_svm_prediction, test_labels)))\n",
    "\n",
    "skplt.metrics.plot_confusion_matrix(test_labels, test_svm_prediction, normalize=True)\n",
    "plt.show()"
   ]
  },
  {
   "cell_type": "code",
   "execution_count": 13,
   "metadata": {},
   "outputs": [
    {
     "name": "stdout",
     "output_type": "stream",
     "text": [
      "ROC_Score : 0.8300647784975388\n"
     ]
    },
    {
     "data": {
      "image/png": "[encoded data removed]",
      "text/plain": [
       "<Figure size 432x288 with 1 Axes>"
      ]
     },
     "metadata": {
      "needs_background": "light"
     },
     "output_type": "display_data"
    }
   ],
   "source": [
    "fpr, tpr, thresholds = metrics.roc_curve(test_svm_prediction, test_labels)\n",
    "plt.figure()\n",
    "plt.plot(fpr, tpr, lw=2)\n",
    "\n",
    "print(\"ROC_Score : \" + str(metrics.roc_auc_score(test_svm_prediction, test_labels)))\n"
   ]
  },
  {
   "cell_type": "markdown",
   "metadata": {},
   "source": [
    "## Random Forest "
   ]
  },
  {
   "cell_type": "code",
   "execution_count": 14,
   "metadata": {},
   "outputs": [
    {
     "name": "stderr",
     "output_type": "stream",
     "text": [
      "c:\\users\\poudingue\\appdata\\local\\programs\\python\\python37-32\\lib\\site-packages\\sklearn\\model_selection\\_split.py:1943: FutureWarning: You should specify a value for 'cv' instead of relying on the default value. The default value will change from 3 to 5 in version 0.22.\n",
      "  warnings.warn(CV_WARNING, FutureWarning)\n"
     ]
    },
    {
     "data": {
      "text/plain": [
       "GridSearchCV(cv='warn', error_score='raise-deprecating',\n",
       "       estimator=Pipeline(memory=None,\n",
       "     steps=[('vect', CountVectorizer(analyzer='word', binary=False, decode_error='strict',\n",
       "        dtype=<class 'numpy.int64'>, encoding='utf-8', input='content',\n",
       "        lowercase=True, max_df=1.0, max_features=None, min_df=25,\n",
       "        ngram_range=(1, 1), preprocessor=None, stop_words='english',\n",
       "       ...obs=None,\n",
       "            oob_score=False, random_state=None, verbose=0,\n",
       "            warm_start=False))]),\n",
       "       fit_params=None, iid='warn', n_jobs=-1,\n",
       "       param_grid={'tfidf__use_idf': (True, False), 'vect__ngram_range': [(1, 1), (1, 2), (1, 3)], 'rf__n_estimators': [100, 1000, 2000]},\n",
       "       pre_dispatch='2*n_jobs', refit=True, return_train_score='warn',\n",
       "       scoring=None, verbose=0)"
      ]
     },
     "execution_count": 14,
     "metadata": {},
     "output_type": "execute_result"
    }
   ],
   "source": [
    "pipeline_rf = Pipeline([('vect', CountVectorizer(stop_words='english', min_df=25, analyzer = \"word\")),\n",
    "                     ('tfidf', TfidfTransformer()),\n",
    "                     ('rf', RandomForestClassifier()),\n",
    "                    ])\n",
    "\n",
    "parameters_rf = {'tfidf__use_idf': (True, False),\n",
    "                 'vect__ngram_range': [(1, 1), (1, 2), (1, 3)],\n",
    "                 'rf__n_estimators': [100, 1000, 2000],\n",
    "}\n",
    "\n",
    "GridSearchRF = GridSearchCV(pipeline_rf, parameters_rf, n_jobs=-1)\n",
    "\n",
    "GridSearchRF.fit(train_set_unlabeled, train_labels)"
   ]
  },
  {
   "cell_type": "code",
   "execution_count": 15,
   "metadata": {},
   "outputs": [
    {
     "name": "stdout",
     "output_type": "stream",
     "text": [
      "rf__n_estimators: 1000\n",
      "tfidf__use_idf: True\n",
      "vect__ngram_range: (1, 1)\n",
      " Best Estimator : RandomForestClassifier(bootstrap=True, class_weight=None, criterion='gini',\n",
      "            max_depth=None, max_features='auto', max_leaf_nodes=None,\n",
      "            min_impurity_decrease=0.0, min_impurity_split=None,\n",
      "            min_samples_leaf=1, min_samples_split=2,\n",
      "            min_weight_fraction_leaf=0.0, n_estimators=1000, n_jobs=None,\n",
      "            oob_score=False, random_state=None, verbose=0,\n",
      "            warm_start=False)\n"
     ]
    }
   ],
   "source": [
    "for param_name in sorted(parameters_rf.keys()):\n",
    "    print(\"%s: %r\" % (param_name, GridSearchRF.best_params_[param_name]))\n",
    "\n",
    "print(\" Best Estimator : \" + str(GridSearchRF.best_estimator_.get_params()[\"rf\"]))"
   ]
  },
  {
   "cell_type": "code",
   "execution_count": 16,
   "metadata": {},
   "outputs": [
    {
     "name": "stdout",
     "output_type": "stream",
     "text": [
      "Accuracy : 0.8366666666666667\n",
      "Recall : 0.8297213622291022\n",
      "Precision : 0.8617363344051447\n"
     ]
    },
    {
     "data": {
      "image/png": "[encoded data removed]",
      "text/plain": [
       "<Figure size 432x288 with 2 Axes>"
      ]
     },
     "metadata": {
      "needs_background": "light"
     },
     "output_type": "display_data"
    }
   ],
   "source": [
    "rf = GridSearchRF.best_estimator_\n",
    "\n",
    "test_rf_prediction = rf.predict(test_set_unlabeled)\n",
    "\n",
    "print(\"Accuracy : \" + str(metrics.accuracy_score(test_rf_prediction, test_labels)))\n",
    "print(\"Recall : \" + str(metrics.recall_score(test_rf_prediction, test_labels)))\n",
    "print(\"Precision : \" + str(metrics.precision_score(test_rf_prediction, test_labels)))\n",
    "\n",
    "skplt.metrics.plot_confusion_matrix(test_labels, test_rf_prediction, normalize=True)\n",
    "plt.show()"
   ]
  },
  {
   "cell_type": "code",
   "execution_count": 18,
   "metadata": {},
   "outputs": [
    {
     "name": "stdout",
     "output_type": "stream",
     "text": [
      "ROC_Score : 0.8372433525946955\n"
     ]
    },
    {
     "data": {
      "image/png": "[encoded data removed]",
      "text/plain": [
       "<Figure size 432x288 with 1 Axes>"
      ]
     },
     "metadata": {
      "needs_background": "light"
     },
     "output_type": "display_data"
    }
   ],
   "source": [
    "fpr, tpr, thresholds = metrics.roc_curve(test_rf_prediction, test_labels)\n",
    "plt.figure()\n",
    "plt.plot(fpr, tpr, lw=2)\n",
    "\n",
    "print(\"ROC_Score : \" + str(metrics.roc_auc_score(test_rf_prediction, test_labels)))\n"
   ]
  },
  {
   "cell_type": "markdown",
   "metadata": {},
   "source": [
    "## Gradient Boosting"
   ]
  },
  {
   "cell_type": "code",
   "execution_count": 17,
   "metadata": {},
   "outputs": [
    {
     "ename": "SyntaxError",
     "evalue": "invalid syntax (<ipython-input-17-ac912dd01775>, line 12)",
     "output_type": "error",
     "traceback": [
      "\u001b[1;36m  File \u001b[1;32m\"<ipython-input-17-ac912dd01775>\"\u001b[1;36m, line \u001b[1;32m12\u001b[0m\n\u001b[1;33m    GridSearchGB = GridSearchCV(pipeline_gb, parameters_gb, n_jobs=-1, scoring=)\u001b[0m\n\u001b[1;37m                                                                               ^\u001b[0m\n\u001b[1;31mSyntaxError\u001b[0m\u001b[1;31m:\u001b[0m invalid syntax\n"
     ]
    }
   ],
   "source": [
    "pipeline_gb = Pipeline([('vect', CountVectorizer(stop_words='english', min_df=25, analyzer = \"word\")),\n",
    "                     ('tfidf', TfidfTransformer()),\n",
    "                     ('gb', GradientBoostingClassifier()),\n",
    "                    ])\n",
    "\n",
    "parameters_gb = {'tfidf__use_idf': (True, False),\n",
    "                 'vect__ngram_range': [(1, 1), (1, 2), (1, 3)],\n",
    "                 'gb__learning_rate': [1e-1, 1e-2, 1e-3],\n",
    "                 'gb__n_estimators': [100, 1000, 10000],\n",
    "}\n",
    "\n",
    "GridSearchGB = GridSearchCV(pipeline_gb, parameters_gb, n_jobs=-1, scoring=)\n",
    "\n",
    "GridSearchGB.fit(train_set_unlabeled, train_labels)"
   ]
  },
  {
   "cell_type": "code",
   "execution_count": null,
   "metadata": {},
   "outputs": [],
   "source": [
    "for param_name in sorted(parameters_rf.keys()):\n",
    "    print(\"%s: %r\" % (param_name, GridSearchRF.best_params_[param_name]))\n",
    "\n",
    "print(\" Best Estimator : \" + str(GridSearchRF.best_estimator_.get_params()[\"gb\"]))"
   ]
  },
  {
   "cell_type": "code",
   "execution_count": null,
   "metadata": {},
   "outputs": [],
   "source": [
    "# Get the best parameters for the SVM\n",
    "gb = GridSearchGB.best_estimator_\n",
    "\n",
    "test_gb_prediction = gb.predict(test_set_unlabeled)\n",
    "\n",
    "print(\"Accuracy : \" + str(metrics.accuracy_score(test_gb_prediction, test_labels)))\n",
    "print(\"Recall : \" + str(metrics.recall_score(test_gb_prediction, test_labels)))\n",
    "print(\"Precision : \" + str(metrics.precision_score(test_gb_prediction, test_labels)))\n",
    "\n",
    "skplt.metrics.plot_confusion_matrix(test_labels, test_gb_prediction, normalize=True)\n",
    "plt.show()"
   ]
  },
  {
   "cell_type": "markdown",
   "metadata": {},
   "source": [
    "# Compare the results"
   ]
  },
  {
   "cell_type": "code",
   "execution_count": null,
   "metadata": {},
   "outputs": [],
   "source": [
    "listResults.sort(reverse=True)"
   ]
  },
  {
   "cell_type": "code",
   "execution_count": null,
   "metadata": {},
   "outputs": [],
   "source": [
    "listResults"
   ]
  },
  {
   "cell_type": "code",
   "execution_count": null,
   "metadata": {},
   "outputs": [],
   "source": [
    "# Rajouter Precision et Rappel a minima\n",
    "\n",
    "# Matrice de confusion\n",
    "metrics.confusion_matrix(y_test, y_pred_class)\n",
    "\n",
    "# ROC\n",
    "metrics.roc_auc_score(y_test, y_pred_prob)\n",
    "\n",
    "# Voir section \"Examining a model for further insight\" du prof, tokenisation par ex\n",
    "\n",
    "# Dessiner les résultats (histogramme avec tous les scores par exemple)\n"
   ]
  }
 ],
 "metadata": {
  "kernelspec": {
   "display_name": "Python 3",
   "language": "python",
   "name": "python3"
  },
  "language_info": {
   "codemirror_mode": {
    "name": "ipython",
    "version": 3
   },
   "file_extension": ".py",
   "mimetype": "text/x-python",
   "name": "python",
   "nbconvert_exporter": "python",
   "pygments_lexer": "ipython3",
   "version": "3.7.0"
  }
 },
 "nbformat": 4,
 "nbformat_minor": 2
}
